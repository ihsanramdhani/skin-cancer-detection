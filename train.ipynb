{
  "nbformat": 4,
  "nbformat_minor": 0,
  "metadata": {
    "colab": {
      "name": "train.ipynb",
      "provenance": [],
      "mount_file_id": "https://github.com/ihsanramdhani/skin-cancer-detection/blob/master/train.ipynb",
      "authorship_tag": "ABX9TyPakYS2R9qf2DaVoLqd0PxK",
      "include_colab_link": true
    },
    "kernelspec": {
      "name": "python3",
      "display_name": "Python 3"
    },
    "language_info": {
      "name": "python"
    },
    "accelerator": "GPU"
  },
  "cells": [
    {
      "cell_type": "markdown",
      "metadata": {
        "id": "view-in-github",
        "colab_type": "text"
      },
      "source": [
        "<a href=\"https://colab.research.google.com/github/ihsanramdhani/skin-cancer-detection/blob/master/train.ipynb\" target=\"_parent\"><img src=\"https://colab.research.google.com/assets/colab-badge.svg\" alt=\"Open In Colab\"/></a>"
      ]
    },
    {
      "cell_type": "code",
      "metadata": {
        "id": "kBc65D7hy5DK"
      },
      "source": [
        "# Import Dependencies\n",
        "\n",
        "import os\n",
        "import shutil\n",
        "import tensorflow as tf\n",
        "from tensorflow.keras.optimizers import RMSprop\n",
        "from tensorflow.keras.preprocessing.image import ImageDataGenerator\n",
        "import matplotlib.image  as mpimg\n",
        "import matplotlib.pyplot as plt\n",
        "\n",
        "%matplotlib inline"
      ],
      "execution_count": 5,
      "outputs": []
    },
    {
      "cell_type": "code",
      "metadata": {
        "colab": {
          "base_uri": "https://localhost:8080/"
        },
        "id": "O7Xf-Pdt1n2r",
        "outputId": "9052fb85-1f82-48e9-8b3f-a64f82db3d46"
      },
      "source": [
        "#-----------------------------------------------------------\n",
        "# Download dataset\n",
        "# Because we get the data from kaggle, we need kaggle API Token\n",
        "#-----------------------------------------------------------\n",
        "\n",
        "!pip install -q kaggle\n",
        "!mkdir -p ~/.kaggle\n",
        "!cp \"/content/drive/MyDrive/kaggle API Token/kaggle.json\" ~/.kaggle/\n",
        "!cat ~/.kaggle/kaggle.json \n",
        "!chmod 600 ~/.kaggle/kaggle.json\n",
        "\n",
        "!kaggle datasets download -d fanconic/skin-cancer-malignant-vs-benign -p /tmp"
      ],
      "execution_count": 6,
      "outputs": [
        {
          "output_type": "stream",
          "text": [
            "{\"username\":\"ihsannnn\",\"key\":\"85fda20b45bb02143b7ae255c5223b5e\"}skin-cancer-malignant-vs-benign.zip: Skipping, found more recently modified local copy (use --force to force download)\n"
          ],
          "name": "stdout"
        }
      ]
    },
    {
      "cell_type": "code",
      "metadata": {
        "id": "Qj9MwvvCWgKO"
      },
      "source": [
        "#-----------------------------------------------------------\n",
        "# Extract the data and save it to /tmp directory\n",
        "#-----------------------------------------------------------\n",
        "\n",
        "shutil.unpack_archive(\"/tmp/skin-cancer-malignant-vs-benign.zip\", \"/tmp\")"
      ],
      "execution_count": 7,
      "outputs": []
    },
    {
      "cell_type": "code",
      "metadata": {
        "id": "LNOKfE1XW4ir",
        "outputId": "b3b429f9-fceb-47fb-d832-9c7c105fa941",
        "colab": {
          "base_uri": "https://localhost:8080/"
        }
      },
      "source": [
        "#-----------------------------------------------------------\n",
        "# Check how much the data in each directory\n",
        "#-----------------------------------------------------------\n",
        "\n",
        "train_benign_fnames = os.listdir(\"/tmp/train/benign\")\n",
        "train_malignant_fnames = os.listdir(\"/tmp/train/malignant\")\n",
        "validation_benign_fnames = os.listdir(\"/tmp/test/benign\")\n",
        "validation_malignant_fnames = os.listdir(\"/tmp/test/malignant\")\n",
        "\n",
        "print(len(train_benign_fnames))\n",
        "print(len(train_malignant_fnames))\n",
        "print(len(validation_benign_fnames))\n",
        "print(len(validation_malignant_fnames))"
      ],
      "execution_count": 8,
      "outputs": [
        {
          "output_type": "stream",
          "text": [
            "1440\n",
            "1197\n",
            "360\n",
            "300\n"
          ],
          "name": "stdout"
        }
      ]
    },
    {
      "cell_type": "code",
      "metadata": {
        "id": "6xzIa-yxYs25"
      },
      "source": [
        "#-----------------------------------------------------------\n",
        "# Build the model using convolutional layer\n",
        "#-----------------------------------------------------------\n",
        "\n",
        "model = tf.keras.models.Sequential([\n",
        "  tf.keras.layers.Conv2D(16, (3,3), activation='relu', input_shape=(224, 224, 3)),\n",
        "  tf.keras.layers.MaxPooling2D(2, 2),\n",
        "  tf.keras.layers.Conv2D(32, (3,3), activation='relu'),\n",
        "  tf.keras.layers.MaxPooling2D(2, 2),\n",
        "  tf.keras.layers.Conv2D(64, (3,3), activation='relu', input_shape=(224, 224, 3)),\n",
        "  tf.keras.layers.MaxPooling2D(2, 2),\n",
        "  tf.keras.layers.Flatten(),\n",
        "  tf.keras.layers.Dense(512, activation='relu'),\n",
        "  tf.keras.layers.Dense(1, activation='sigmoid')\n",
        "])\n",
        "\n",
        "model.compile(optimizer=RMSprop(lr=0.001), loss=\"binary_crossentropy\", metrics=[\"acc\"])"
      ],
      "execution_count": 9,
      "outputs": []
    },
    {
      "cell_type": "code",
      "metadata": {
        "id": "5PpwL5ioaESL",
        "outputId": "e3e33a43-db19-426b-b54e-f58b3f825185",
        "colab": {
          "base_uri": "https://localhost:8080/"
        }
      },
      "source": [
        "# DATA AUGMENTATION\n",
        "\n",
        "TRAINING_DIR = \"/tmp/train\"\n",
        "train_datagen = ImageDataGenerator(rescale=1./255,\n",
        "                                  rotation_range=40,\n",
        "                                  width_shift_range=0.2,\n",
        "                                  height_shift_range=0.2,\n",
        "                                  shear_range=0.2,\n",
        "                                  zoom_range=0.2,\n",
        "                                  horizontal_flip=True,)\n",
        "\n",
        "train_generator = train_datagen.flow_from_directory(\n",
        "    TRAINING_DIR,\n",
        "    batch_size=20,\n",
        "    target_size=(224, 224),\n",
        "    class_mode='binary'\n",
        ")\n",
        "\n",
        "VALIDATION_DIR = \"/tmp/test\"\n",
        "validation_datagen = ImageDataGenerator(rescale=1./255)\n",
        "\n",
        "validation_generator = validation_datagen.flow_from_directory(\n",
        "    VALIDATION_DIR,\n",
        "    batch_size=20,\n",
        "    target_size=(224, 224),\n",
        "    class_mode='binary'\n",
        ")"
      ],
      "execution_count": 10,
      "outputs": [
        {
          "output_type": "stream",
          "text": [
            "Found 2637 images belonging to 2 classes.\n",
            "Found 660 images belonging to 2 classes.\n"
          ],
          "name": "stdout"
        }
      ]
    },
    {
      "cell_type": "code",
      "metadata": {
        "id": "V6L1TXB8bx9M",
        "outputId": "5c15ab81-e31d-4201-837a-2ba50681a35d",
        "colab": {
          "base_uri": "https://localhost:8080/"
        }
      },
      "source": [
        "# TRAINING\n",
        "\n",
        "history = model.fit_generator(train_generator,\n",
        "                              epochs = 100,\n",
        "                              verbose=1,\n",
        "                              validation_data=validation_generator)"
      ],
      "execution_count": 11,
      "outputs": [
        {
          "output_type": "stream",
          "text": [
            "/usr/local/lib/python3.7/dist-packages/tensorflow/python/keras/engine/training.py:1844: UserWarning: `Model.fit_generator` is deprecated and will be removed in a future version. Please use `Model.fit`, which supports generators.\n",
            "  warnings.warn('`Model.fit_generator` is deprecated and '\n"
          ],
          "name": "stderr"
        },
        {
          "output_type": "stream",
          "text": [
            "Epoch 1/100\n",
            "132/132 [==============================] - 66s 254ms/step - loss: 1.2081 - acc: 0.6174 - val_loss: 0.6540 - val_acc: 0.5985\n",
            "Epoch 2/100\n",
            "132/132 [==============================] - 33s 253ms/step - loss: 0.5614 - acc: 0.7190 - val_loss: 0.5109 - val_acc: 0.7439\n",
            "Epoch 3/100\n",
            "132/132 [==============================] - 33s 252ms/step - loss: 0.5380 - acc: 0.7547 - val_loss: 0.4010 - val_acc: 0.8015\n",
            "Epoch 4/100\n",
            "132/132 [==============================] - 33s 251ms/step - loss: 0.5038 - acc: 0.7473 - val_loss: 0.6274 - val_acc: 0.7030\n",
            "Epoch 5/100\n",
            "132/132 [==============================] - 33s 251ms/step - loss: 0.5010 - acc: 0.7674 - val_loss: 0.3946 - val_acc: 0.7909\n",
            "Epoch 6/100\n",
            "132/132 [==============================] - 33s 253ms/step - loss: 0.4552 - acc: 0.7702 - val_loss: 0.3851 - val_acc: 0.7894\n",
            "Epoch 7/100\n",
            "132/132 [==============================] - 33s 251ms/step - loss: 0.4586 - acc: 0.7950 - val_loss: 0.3878 - val_acc: 0.8030\n",
            "Epoch 8/100\n",
            "132/132 [==============================] - 33s 249ms/step - loss: 0.4239 - acc: 0.8011 - val_loss: 0.4637 - val_acc: 0.7667\n",
            "Epoch 9/100\n",
            "132/132 [==============================] - 33s 251ms/step - loss: 0.4525 - acc: 0.7862 - val_loss: 0.4084 - val_acc: 0.8197\n",
            "Epoch 10/100\n",
            "132/132 [==============================] - 33s 250ms/step - loss: 0.4340 - acc: 0.8111 - val_loss: 0.3912 - val_acc: 0.8121\n",
            "Epoch 11/100\n",
            "132/132 [==============================] - 33s 250ms/step - loss: 0.4406 - acc: 0.7851 - val_loss: 0.3763 - val_acc: 0.7955\n",
            "Epoch 12/100\n",
            "132/132 [==============================] - 33s 250ms/step - loss: 0.4202 - acc: 0.8109 - val_loss: 0.4065 - val_acc: 0.8364\n",
            "Epoch 13/100\n",
            "132/132 [==============================] - 33s 249ms/step - loss: 0.4202 - acc: 0.8085 - val_loss: 0.4190 - val_acc: 0.8000\n",
            "Epoch 14/100\n",
            "132/132 [==============================] - 33s 250ms/step - loss: 0.4356 - acc: 0.7937 - val_loss: 0.4398 - val_acc: 0.7485\n",
            "Epoch 15/100\n",
            "132/132 [==============================] - 33s 248ms/step - loss: 0.4279 - acc: 0.7923 - val_loss: 0.3650 - val_acc: 0.8227\n",
            "Epoch 16/100\n",
            "132/132 [==============================] - 33s 251ms/step - loss: 0.4005 - acc: 0.7998 - val_loss: 0.3514 - val_acc: 0.8273\n",
            "Epoch 17/100\n",
            "132/132 [==============================] - 33s 251ms/step - loss: 0.4179 - acc: 0.8181 - val_loss: 0.3601 - val_acc: 0.8212\n",
            "Epoch 18/100\n",
            "132/132 [==============================] - 33s 249ms/step - loss: 0.4560 - acc: 0.8011 - val_loss: 0.3557 - val_acc: 0.8152\n",
            "Epoch 19/100\n",
            "132/132 [==============================] - 33s 252ms/step - loss: 0.4664 - acc: 0.8001 - val_loss: 0.3649 - val_acc: 0.8303\n",
            "Epoch 20/100\n",
            "132/132 [==============================] - 33s 251ms/step - loss: 0.4279 - acc: 0.8134 - val_loss: 0.4960 - val_acc: 0.7197\n",
            "Epoch 21/100\n",
            "132/132 [==============================] - 33s 251ms/step - loss: 0.4678 - acc: 0.7800 - val_loss: 0.5329 - val_acc: 0.7803\n",
            "Epoch 22/100\n",
            "132/132 [==============================] - 33s 252ms/step - loss: 0.4372 - acc: 0.7977 - val_loss: 0.3906 - val_acc: 0.8121\n",
            "Epoch 23/100\n",
            "132/132 [==============================] - 33s 252ms/step - loss: 0.4267 - acc: 0.7972 - val_loss: 0.3799 - val_acc: 0.8136\n",
            "Epoch 24/100\n",
            "132/132 [==============================] - 33s 253ms/step - loss: 0.4398 - acc: 0.8027 - val_loss: 0.3470 - val_acc: 0.8364\n",
            "Epoch 25/100\n",
            "132/132 [==============================] - 33s 253ms/step - loss: 0.3952 - acc: 0.8133 - val_loss: 0.3886 - val_acc: 0.8152\n",
            "Epoch 26/100\n",
            "132/132 [==============================] - 33s 252ms/step - loss: 0.3972 - acc: 0.8068 - val_loss: 0.4621 - val_acc: 0.7561\n",
            "Epoch 27/100\n",
            "132/132 [==============================] - 33s 250ms/step - loss: 0.4145 - acc: 0.8109 - val_loss: 0.3927 - val_acc: 0.8242\n",
            "Epoch 28/100\n",
            "132/132 [==============================] - 33s 252ms/step - loss: 0.4445 - acc: 0.8117 - val_loss: 0.3712 - val_acc: 0.7985\n",
            "Epoch 29/100\n",
            "132/132 [==============================] - 33s 250ms/step - loss: 0.4266 - acc: 0.8127 - val_loss: 0.4088 - val_acc: 0.8045\n",
            "Epoch 30/100\n",
            "132/132 [==============================] - 33s 250ms/step - loss: 0.3819 - acc: 0.8208 - val_loss: 0.3545 - val_acc: 0.8182\n",
            "Epoch 31/100\n",
            "132/132 [==============================] - 33s 249ms/step - loss: 0.3965 - acc: 0.8192 - val_loss: 0.4209 - val_acc: 0.7879\n",
            "Epoch 32/100\n",
            "132/132 [==============================] - 33s 250ms/step - loss: 0.4185 - acc: 0.8143 - val_loss: 0.4030 - val_acc: 0.8152\n",
            "Epoch 33/100\n",
            "132/132 [==============================] - 33s 250ms/step - loss: 0.3765 - acc: 0.8270 - val_loss: 0.3547 - val_acc: 0.7955\n",
            "Epoch 34/100\n",
            "132/132 [==============================] - 33s 250ms/step - loss: 0.4010 - acc: 0.8182 - val_loss: 0.3759 - val_acc: 0.8091\n",
            "Epoch 35/100\n",
            "132/132 [==============================] - 33s 250ms/step - loss: 0.3972 - acc: 0.8105 - val_loss: 0.3741 - val_acc: 0.7879\n",
            "Epoch 36/100\n",
            "132/132 [==============================] - 33s 250ms/step - loss: 0.4054 - acc: 0.8093 - val_loss: 0.3661 - val_acc: 0.8121\n",
            "Epoch 37/100\n",
            "132/132 [==============================] - 33s 249ms/step - loss: 0.3995 - acc: 0.8076 - val_loss: 0.3918 - val_acc: 0.8015\n",
            "Epoch 38/100\n",
            "132/132 [==============================] - 33s 250ms/step - loss: 0.4007 - acc: 0.8213 - val_loss: 0.4005 - val_acc: 0.8061\n",
            "Epoch 39/100\n",
            "132/132 [==============================] - 33s 250ms/step - loss: 0.3999 - acc: 0.8077 - val_loss: 0.3591 - val_acc: 0.8000\n",
            "Epoch 40/100\n",
            "132/132 [==============================] - 33s 249ms/step - loss: 0.3863 - acc: 0.8353 - val_loss: 0.3603 - val_acc: 0.8394\n",
            "Epoch 41/100\n",
            "132/132 [==============================] - 33s 250ms/step - loss: 0.4156 - acc: 0.8127 - val_loss: 0.3453 - val_acc: 0.8379\n",
            "Epoch 42/100\n",
            "132/132 [==============================] - 33s 249ms/step - loss: 0.3924 - acc: 0.8219 - val_loss: 0.3879 - val_acc: 0.8258\n",
            "Epoch 43/100\n",
            "132/132 [==============================] - 32s 246ms/step - loss: 0.3861 - acc: 0.8263 - val_loss: 0.4043 - val_acc: 0.7818\n",
            "Epoch 44/100\n",
            "132/132 [==============================] - 33s 248ms/step - loss: 0.4376 - acc: 0.8032 - val_loss: 0.3719 - val_acc: 0.8061\n",
            "Epoch 45/100\n",
            "132/132 [==============================] - 33s 246ms/step - loss: 0.4106 - acc: 0.8202 - val_loss: 1.4695 - val_acc: 0.6318\n",
            "Epoch 46/100\n",
            "132/132 [==============================] - 33s 246ms/step - loss: 0.5197 - acc: 0.8076 - val_loss: 0.4336 - val_acc: 0.7970\n",
            "Epoch 47/100\n",
            "132/132 [==============================] - 33s 247ms/step - loss: 0.4565 - acc: 0.8052 - val_loss: 0.3502 - val_acc: 0.8091\n",
            "Epoch 48/100\n",
            "132/132 [==============================] - 33s 246ms/step - loss: 0.3704 - acc: 0.8192 - val_loss: 0.3795 - val_acc: 0.8333\n",
            "Epoch 49/100\n",
            "132/132 [==============================] - 32s 246ms/step - loss: 0.3817 - acc: 0.8218 - val_loss: 0.4002 - val_acc: 0.8000\n",
            "Epoch 50/100\n",
            "132/132 [==============================] - 32s 245ms/step - loss: 0.3878 - acc: 0.8190 - val_loss: 0.4541 - val_acc: 0.8076\n",
            "Epoch 51/100\n",
            "132/132 [==============================] - 33s 246ms/step - loss: 0.3923 - acc: 0.8045 - val_loss: 0.8325 - val_acc: 0.7091\n",
            "Epoch 52/100\n",
            "132/132 [==============================] - 32s 245ms/step - loss: 0.4156 - acc: 0.8191 - val_loss: 0.3699 - val_acc: 0.8212\n",
            "Epoch 53/100\n",
            "132/132 [==============================] - 32s 246ms/step - loss: 0.3896 - acc: 0.8219 - val_loss: 0.3948 - val_acc: 0.8091\n",
            "Epoch 54/100\n",
            "132/132 [==============================] - 33s 247ms/step - loss: 0.3900 - acc: 0.8149 - val_loss: 0.8975 - val_acc: 0.6621\n",
            "Epoch 55/100\n",
            "132/132 [==============================] - 32s 246ms/step - loss: 0.3938 - acc: 0.8132 - val_loss: 0.3447 - val_acc: 0.8439\n",
            "Epoch 56/100\n",
            "132/132 [==============================] - 33s 247ms/step - loss: 0.3797 - acc: 0.8223 - val_loss: 0.3628 - val_acc: 0.8500\n",
            "Epoch 57/100\n",
            "132/132 [==============================] - 33s 247ms/step - loss: 0.3922 - acc: 0.8176 - val_loss: 0.5267 - val_acc: 0.7455\n",
            "Epoch 58/100\n",
            "132/132 [==============================] - 33s 247ms/step - loss: 0.4331 - acc: 0.8254 - val_loss: 0.4075 - val_acc: 0.8212\n",
            "Epoch 59/100\n",
            "132/132 [==============================] - 33s 246ms/step - loss: 0.4137 - acc: 0.7967 - val_loss: 0.3679 - val_acc: 0.8500\n",
            "Epoch 60/100\n",
            "132/132 [==============================] - 33s 247ms/step - loss: 0.3862 - acc: 0.8178 - val_loss: 0.3397 - val_acc: 0.8409\n",
            "Epoch 61/100\n",
            "132/132 [==============================] - 33s 247ms/step - loss: 0.3578 - acc: 0.8338 - val_loss: 0.3899 - val_acc: 0.8076\n",
            "Epoch 62/100\n",
            "132/132 [==============================] - 33s 250ms/step - loss: 0.3907 - acc: 0.8309 - val_loss: 0.3878 - val_acc: 0.8045\n",
            "Epoch 63/100\n",
            "132/132 [==============================] - 33s 249ms/step - loss: 0.3731 - acc: 0.8302 - val_loss: 0.3681 - val_acc: 0.8424\n",
            "Epoch 64/100\n",
            "132/132 [==============================] - 33s 247ms/step - loss: 0.3756 - acc: 0.8249 - val_loss: 0.3650 - val_acc: 0.8303\n",
            "Epoch 65/100\n",
            "132/132 [==============================] - 33s 248ms/step - loss: 0.3809 - acc: 0.8178 - val_loss: 0.4381 - val_acc: 0.8303\n",
            "Epoch 66/100\n",
            "132/132 [==============================] - 33s 249ms/step - loss: 0.4016 - acc: 0.8312 - val_loss: 0.3680 - val_acc: 0.8136\n",
            "Epoch 67/100\n",
            "132/132 [==============================] - 33s 250ms/step - loss: 0.3679 - acc: 0.8486 - val_loss: 0.3789 - val_acc: 0.8455\n",
            "Epoch 68/100\n",
            "132/132 [==============================] - 33s 250ms/step - loss: 0.3678 - acc: 0.8348 - val_loss: 0.3469 - val_acc: 0.8167\n",
            "Epoch 69/100\n",
            "132/132 [==============================] - 33s 252ms/step - loss: 0.3511 - acc: 0.8283 - val_loss: 0.3499 - val_acc: 0.8136\n",
            "Epoch 70/100\n",
            "132/132 [==============================] - 33s 253ms/step - loss: 0.3883 - acc: 0.8230 - val_loss: 0.3517 - val_acc: 0.8500\n",
            "Epoch 71/100\n",
            "132/132 [==============================] - 33s 253ms/step - loss: 0.4926 - acc: 0.8255 - val_loss: 0.4115 - val_acc: 0.8303\n",
            "Epoch 72/100\n",
            "132/132 [==============================] - 33s 252ms/step - loss: 0.3714 - acc: 0.8228 - val_loss: 0.3702 - val_acc: 0.7955\n",
            "Epoch 73/100\n",
            "132/132 [==============================] - 33s 254ms/step - loss: 0.3685 - acc: 0.8429 - val_loss: 0.3756 - val_acc: 0.8394\n",
            "Epoch 74/100\n",
            "132/132 [==============================] - 33s 253ms/step - loss: 0.3789 - acc: 0.8252 - val_loss: 0.3681 - val_acc: 0.8348\n",
            "Epoch 75/100\n",
            "132/132 [==============================] - 33s 252ms/step - loss: 0.4085 - acc: 0.8429 - val_loss: 0.4085 - val_acc: 0.8136\n",
            "Epoch 76/100\n",
            "132/132 [==============================] - 33s 251ms/step - loss: 0.3882 - acc: 0.8365 - val_loss: 0.3848 - val_acc: 0.8500\n",
            "Epoch 77/100\n",
            "132/132 [==============================] - 33s 253ms/step - loss: 0.3402 - acc: 0.8566 - val_loss: 0.3716 - val_acc: 0.8409\n",
            "Epoch 78/100\n",
            "132/132 [==============================] - 34s 256ms/step - loss: 0.3673 - acc: 0.8344 - val_loss: 0.3818 - val_acc: 0.8318\n",
            "Epoch 79/100\n",
            "132/132 [==============================] - 33s 253ms/step - loss: 0.4182 - acc: 0.8238 - val_loss: 0.3765 - val_acc: 0.8227\n",
            "Epoch 80/100\n",
            "132/132 [==============================] - 33s 253ms/step - loss: 0.3746 - acc: 0.8329 - val_loss: 0.3704 - val_acc: 0.8136\n",
            "Epoch 81/100\n",
            "132/132 [==============================] - 33s 254ms/step - loss: 0.3857 - acc: 0.8111 - val_loss: 0.3570 - val_acc: 0.8439\n",
            "Epoch 82/100\n",
            "132/132 [==============================] - 33s 253ms/step - loss: 0.3723 - acc: 0.8417 - val_loss: 0.3832 - val_acc: 0.8485\n",
            "Epoch 83/100\n",
            "132/132 [==============================] - 33s 252ms/step - loss: 0.3868 - acc: 0.8302 - val_loss: 0.3485 - val_acc: 0.8485\n",
            "Epoch 84/100\n",
            "132/132 [==============================] - 33s 252ms/step - loss: 0.3903 - acc: 0.8180 - val_loss: 0.3220 - val_acc: 0.8530\n",
            "Epoch 85/100\n",
            "132/132 [==============================] - 34s 257ms/step - loss: 0.3972 - acc: 0.8333 - val_loss: 0.3483 - val_acc: 0.8348\n",
            "Epoch 86/100\n",
            "132/132 [==============================] - 34s 261ms/step - loss: 0.3696 - acc: 0.8277 - val_loss: 0.3256 - val_acc: 0.8379\n",
            "Epoch 87/100\n",
            "132/132 [==============================] - 34s 260ms/step - loss: 0.3831 - acc: 0.8468 - val_loss: 0.8902 - val_acc: 0.7985\n",
            "Epoch 88/100\n",
            "132/132 [==============================] - 35s 262ms/step - loss: 0.3761 - acc: 0.8152 - val_loss: 0.3689 - val_acc: 0.7879\n",
            "Epoch 89/100\n",
            "132/132 [==============================] - 34s 260ms/step - loss: 0.3971 - acc: 0.8254 - val_loss: 0.4278 - val_acc: 0.8318\n",
            "Epoch 90/100\n",
            "132/132 [==============================] - 35s 263ms/step - loss: 0.3976 - acc: 0.8163 - val_loss: 0.3246 - val_acc: 0.8439\n",
            "Epoch 91/100\n",
            "132/132 [==============================] - 34s 261ms/step - loss: 0.3701 - acc: 0.8199 - val_loss: 0.3346 - val_acc: 0.8439\n",
            "Epoch 92/100\n",
            "132/132 [==============================] - 35s 263ms/step - loss: 0.3444 - acc: 0.8367 - val_loss: 0.3554 - val_acc: 0.8515\n",
            "Epoch 93/100\n",
            "132/132 [==============================] - 34s 260ms/step - loss: 0.3776 - acc: 0.8309 - val_loss: 0.3599 - val_acc: 0.8439\n",
            "Epoch 94/100\n",
            "132/132 [==============================] - 34s 258ms/step - loss: 0.3653 - acc: 0.8299 - val_loss: 0.3487 - val_acc: 0.8394\n",
            "Epoch 95/100\n",
            "132/132 [==============================] - 34s 260ms/step - loss: 0.3818 - acc: 0.8371 - val_loss: 0.3506 - val_acc: 0.8242\n",
            "Epoch 96/100\n",
            "132/132 [==============================] - 34s 259ms/step - loss: 0.3686 - acc: 0.8117 - val_loss: 0.3551 - val_acc: 0.8439\n",
            "Epoch 97/100\n",
            "132/132 [==============================] - 34s 260ms/step - loss: 0.3764 - acc: 0.8307 - val_loss: 0.3993 - val_acc: 0.8348\n",
            "Epoch 98/100\n",
            "132/132 [==============================] - 34s 259ms/step - loss: 0.3695 - acc: 0.8407 - val_loss: 0.3556 - val_acc: 0.8348\n",
            "Epoch 99/100\n",
            "132/132 [==============================] - 34s 258ms/step - loss: 0.3792 - acc: 0.8296 - val_loss: 0.3459 - val_acc: 0.8364\n",
            "Epoch 100/100\n",
            "132/132 [==============================] - 34s 255ms/step - loss: 0.3668 - acc: 0.8294 - val_loss: 0.3645 - val_acc: 0.8379\n"
          ],
          "name": "stdout"
        }
      ]
    },
    {
      "cell_type": "code",
      "metadata": {
        "id": "mog6rBQLcH6X",
        "outputId": "ea9b3e33-c354-49b2-a3f2-f09a7a058fe2",
        "colab": {
          "base_uri": "https://localhost:8080/",
          "height": 563
        }
      },
      "source": [
        "# PLOT LOSS AND ACCURACY\n",
        "\n",
        "#-----------------------------------------------------------\n",
        "# Retrieve a list of list results on training and test data\n",
        "# sets for each training epoch\n",
        "#-----------------------------------------------------------\n",
        "acc=history.history['acc']\n",
        "val_acc=history.history['val_acc']\n",
        "loss=history.history['loss']\n",
        "val_loss=history.history['val_loss']\n",
        "\n",
        "epochs=range(len(acc)) # Get number of epochs\n",
        "\n",
        "#------------------------------------------------\n",
        "# Plot training and validation accuracy per epoch\n",
        "#------------------------------------------------\n",
        "plt.plot(epochs, acc, 'r', \"Training Accuracy\")\n",
        "plt.plot(epochs, val_acc, 'b', \"Validation Accuracy\")\n",
        "plt.title('Training and validation accuracy')\n",
        "plt.figure()\n",
        "\n",
        "#------------------------------------------------\n",
        "# Plot training and validation loss per epoch\n",
        "#------------------------------------------------\n",
        "plt.plot(epochs, loss, 'r', \"Training Loss\")\n",
        "plt.plot(epochs, val_loss, 'b', \"Validation Loss\")\n",
        "\n",
        "\n",
        "plt.title('Training and validation loss')"
      ],
      "execution_count": 12,
      "outputs": [
        {
          "output_type": "execute_result",
          "data": {
            "text/plain": [
              "Text(0.5, 1.0, 'Training and validation loss')"
            ]
          },
          "metadata": {
            "tags": []
          },
          "execution_count": 12
        },
        {
          "output_type": "display_data",
          "data": {
            "image/png": "[encoded data removed]",
            "text/plain": [
              "<Figure size 432x288 with 1 Axes>"
            ]
          },
          "metadata": {
            "tags": [],
            "needs_background": "light"
          }
        },
        {
          "output_type": "display_data",
          "data": {
            "image/png": "[encoded data removed]",
            "text/plain": [
              "<Figure size 432x288 with 1 Axes>"
            ]
          },
          "metadata": {
            "tags": [],
            "needs_background": "light"
          }
        }
      ]
    }
  ]
}