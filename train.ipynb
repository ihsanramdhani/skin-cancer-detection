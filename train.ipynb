{
  "nbformat": 4,
  "nbformat_minor": 0,
  "metadata": {
    "colab": {
      "name": "train.ipynb",
      "provenance": [],
      "mount_file_id": "https://github.com/ihsanramdhani/skin-cancer-detection/blob/master/train.ipynb",
      "authorship_tag": "ABX9TyOIW54fKxdBiL0+dD8xAp4u",
      "include_colab_link": true
    },
    "kernelspec": {
      "name": "python3",
      "display_name": "Python 3"
    },
    "language_info": {
      "name": "python"
    }
  },
  "cells": [
    {
      "cell_type": "markdown",
      "metadata": {
        "id": "view-in-github",
        "colab_type": "text"
      },
      "source": [
        "<a href=\"https://colab.research.google.com/github/ihsanramdhani/skin-cancer-detection/blob/master/train.ipynb\" target=\"_parent\"><img src=\"https://colab.research.google.com/assets/colab-badge.svg\" alt=\"Open In Colab\"/></a>"
      ]
    },
    {
      "cell_type": "code",
      "metadata": {
        "colab": {
          "base_uri": "https://localhost:8080/"
        },
        "id": "kBc65D7hy5DK",
        "outputId": "ba683c84-7891-4600-f71a-945e8e3d1184"
      },
      "source": [
        "!ls \"/content/drive/MyDrive/kaggle API Token\""
      ],
      "execution_count": null,
      "outputs": [
        {
          "output_type": "stream",
          "text": [
            "kaggle.json\n"
          ],
          "name": "stdout"
        }
      ]
    },
    {
      "cell_type": "code",
      "metadata": {
        "colab": {
          "base_uri": "https://localhost:8080/"
        },
        "id": "O7Xf-Pdt1n2r",
        "outputId": "6a26f61f-72e0-438c-b5bb-43b634c21630"
      },
      "source": [
        "!pip install -q kaggle\n",
        "!mkdir -p ~/.kaggle\n",
        "!cp \"/content/drive/MyDrive/kaggle API Token/kaggle.json\" ~/.kaggle/\n",
        "!cat ~/.kaggle/kaggle.json \n",
        "!chmod 600 ~/.kaggle/kaggle.json\n",
        "\n",
        "!kaggle datasets download -d fanconic/skin-cancer-malignant-vs-benign -p /content/drive/MyDrive/dataset"
      ],
      "execution_count": 78,
      "outputs": [
        {
          "output_type": "stream",
          "text": [
            "Traceback (most recent call last):\n",
            "  File \"/usr/local/bin/kaggle\", line 5, in <module>\n",
            "    from kaggle.cli import main\n",
            "  File \"/usr/local/lib/python2.7/dist-packages/kaggle/__init__.py\", line 23, in <module>\n",
            "    api.authenticate()\n",
            "  File \"/usr/local/lib/python2.7/dist-packages/kaggle/api/kaggle_api_extended.py\", line 146, in authenticate\n",
            "    self.config_file, self.config_dir))\n",
            "IOError: Could not find kaggle.json. Make sure it's located in /root/.kaggle. Or use the environment method.\n"
          ],
          "name": "stdout"
        }
      ]
    },
    {
      "cell_type": "code",
      "metadata": {
        "id": "vdeMrmccv3XH"
      },
      "source": [
        "import os\n",
        "\n",
        "try:\n",
        "  os.mkdir(\"/content/drive/MyDrive/data\")\n",
        "  os.mkdir(\"/content/drive/MyDrive/raw_data\")\n",
        "\n",
        "  os.mkdir(\"/content/drive/MyDrive/data/training\")\n",
        "  os.mkdir(\"/content/drive/MyDrive/data/validation\")\n",
        "  os.mkdir(\"/content/drive/MyDrive/data/testing\")\n",
        "\n",
        "  os.mkdir(\"/content/drive/MyDrive/data/training/benign\")\n",
        "  os.mkdir(\"/content/drive/MyDrive/data/training/malignant\")\n",
        "\n",
        "  os.mkdir(\"/content/drive/MyDrive/data/validation/benign\")\n",
        "  os.mkdir(\"/content/drive/MyDrive/data/validation/malignant\")\n",
        "\n",
        "  os.mkdir(\"/content/drive/MyDrive/data/testing/benign\")\n",
        "  os.mkdir(\"/content/drive/MyDrive/data/testing/malignant\")\n",
        "\n",
        "  os.mkdir(\"/content/drive/MyDrive/source\")\n",
        "  os.mkdir(\"/content/drive/MyDrive/source/benign\")\n",
        "  os.mkdir(\"/content/drive/MyDrive/source/malignant\")\n",
        "except:\n",
        "  print(\"Failed to create the data, check !ls to confirm.\")\n",
        "  pass\n"
      ],
      "execution_count": 34,
      "outputs": []
    },
    {
      "cell_type": "code",
      "metadata": {
        "id": "VPkVLQp8vO0I"
      },
      "source": [
        "import shutil \n",
        "\n",
        "shutil.unpack_archive(\"/content/drive/MyDrive/dataset/skin-cancer-malignant-vs-benign.zip\", \"/content/drive/MyDrive/raw_data\")"
      ],
      "execution_count": 14,
      "outputs": []
    },
    {
      "cell_type": "code",
      "metadata": {
        "id": "7RGOQdDdwqpY",
        "outputId": "a46df919-17a4-4a93-83ac-58843b8d4055",
        "colab": {
          "base_uri": "https://localhost:8080/"
        }
      },
      "source": [
        "print(\"Total Testing Data:\")\n",
        "print(len(os.listdir(\"/content/drive/MyDrive/raw_data/test/benign\")))\n",
        "print(len(os.listdir(\"/content/drive/MyDrive/raw_data/test/malignant\")))\n",
        "\n",
        "print(\"Total Training Data\")\n",
        "print(len(os.listdir(\"/content/drive/MyDrive/raw_data/train/benign\")))\n",
        "print(len(os.listdir(\"/content/drive/MyDrive/raw_data/train/malignant\")))"
      ],
      "execution_count": 73,
      "outputs": [
        {
          "output_type": "stream",
          "text": [
            "Total Testing Data:\n",
            "360\n",
            "300\n",
            "Total Training Data\n",
            "1440\n",
            "1197\n"
          ],
          "name": "stdout"
        }
      ]
    },
    {
      "cell_type": "code",
      "metadata": {
        "id": "TlAv0V2U8yAo"
      },
      "source": [
        "import os\n",
        "import glob\n",
        "import shutil\n",
        "\n",
        "\n",
        "def copy_data(src, dst):\n",
        "  for f in glob.iglob(os.path.join(src, \"*.jpg\")):\n",
        "    shutil.copy(f, dst)\n",
        "\n",
        "TRAIN_BENIGN_DIR = \"/content/drive/MyDrive/raw_data/train/benign\"\n",
        "TRAIN_MALIGNANT_DIR = \"/content/drive/MyDrive/raw_data/train/benign\"\n",
        "TEST_BENIGN_DIR = \"/content/drive/MyDrive/raw_data/test/benign\"\n",
        "TEST_MALIGNANT_DIR = \"/content/drive/MyDrive/raw_data/test/malignant\"\n",
        "DEST_BENIGN_DIR = \"/content/drive/MyDrive/source/benign\"\n",
        "DEST_MALIGNANT_DIR = \"/content/drive/MyDrive/source/malignant\"\n",
        "\n",
        "copy_data(TRAIN_BENIGN_DIR, DEST_BENIGN_DIR)\n",
        "copy_data(TEST_BENIGN_DIR, DEST_BENIGN_DIR)\n",
        "copy_data(TRAIN_MALIGNANT_DIR, DEST_MALIGNANT_DIR)\n",
        "copy_data(TEST_MALIGNANT_DIR, DEST_MALIGNANT_DIR)"
      ],
      "execution_count": 71,
      "outputs": []
    },
    {
      "cell_type": "code",
      "metadata": {
        "id": "liGXMO3DBQkf",
        "outputId": "71636c10-3dcd-43b1-e5ef-a28d2a360d21",
        "colab": {
          "base_uri": "https://localhost:8080/"
        }
      },
      "source": [
        "print(\"Total Data in source directory:\")\n",
        "print(len(os.listdir(\"/content/drive/MyDrive/source/benign\")))\n",
        "print(len(os.listdir(\"/content/drive/MyDrive/source/malignant\")))"
      ],
      "execution_count": 79,
      "outputs": [
        {
          "output_type": "stream",
          "text": [
            "Total Data in source directory:\n",
            "1800\n",
            "1507\n"
          ],
          "name": "stdout"
        }
      ]
    },
    {
      "cell_type": "code",
      "metadata": {
        "id": "Ihw5xI49f-Vb",
        "outputId": "6d4568fd-4f48-4676-f6d0-4bffe586c1c0",
        "colab": {
          "base_uri": "https://localhost:8080/"
        }
      },
      "source": [
        "# data = os.listdir(\"/content/drive/MyDrive/source/benign\")\n",
        "# print(data)\n",
        "\n",
        "data = os.listdir(\"/content/drive/MyDrive/source/malignant\")\n",
        "print(data)"
      ],
      "execution_count": 85,
      "outputs": [
        {
          "output_type": "stream",
          "text": [
            "['100.jpg', '1000.jpg', '1001.jpg', '1002.jpg', '1004.jpg', '1005.jpg', '1007.jpg', '1008.jpg', '1009.jpg', '101.jpg', '1010.jpg', '1011.jpg', '1012.jpg', '1014.jpg', '1015.jpg', '1016.jpg', '1017.jpg', '102.jpg', '1020.jpg', '1021.jpg', '1022.jpg', '1024.jpg', '1026.jpg', '1027.jpg', '1028.jpg', '103.jpg', '1030.jpg', '1031.jpg', '1032.jpg', '1035.jpg', '1036.jpg', '1037.jpg', '1038.jpg', '1039.jpg', '104.jpg', '1040.jpg', '1041.jpg', '1043.jpg', '1045.jpg', '1046.jpg', '1047.jpg', '1048.jpg', '1049.jpg', '1050.jpg', '1051.jpg', '1052.jpg', '1053.jpg', '1054.jpg', '1056.jpg', '1057.jpg', '1058.jpg', '1059.jpg', '106.jpg', '1060.jpg', '1062.jpg', '1063.jpg', '1064.jpg', '1065.jpg', '1066.jpg', '1067.jpg', '1068.jpg', '1069.jpg', '107.jpg', '1071.jpg', '1072.jpg', '1073.jpg', '1075.jpg', '1076.jpg', '1078.jpg', '1079.jpg', '108.jpg', '1081.jpg', '1082.jpg', '1083.jpg', '1084.jpg', '1085.jpg', '1086.jpg', '1089.jpg', '109.jpg', '1090.jpg', '1091.jpg', '1093.jpg', '1094.jpg', '1095.jpg', '1096.jpg', '1097.jpg', '1098.jpg', '1099.jpg', '110.jpg', '1100.jpg', '1101.jpg', '1102.jpg', '1103.jpg', '1104.jpg', '1105.jpg', '1106.jpg', '1107.jpg', '1108.jpg', '1109.jpg', '111.jpg', '1111.jpg', '1113.jpg', '1114.jpg', '1116.jpg', '1117.jpg', '1119.jpg', '112.jpg', '1120.jpg', '1121.jpg', '1122.jpg', '1123.jpg', '1124.jpg', '1127.jpg', '1128.jpg', '1129.jpg', '113.jpg', '1131.jpg', '1132.jpg', '1133.jpg', '1136.jpg', '1137.jpg', '1138.jpg', '114.jpg', '1140.jpg', '1141.jpg', '1142.jpg', '1144.jpg', '1145.jpg', '1147.jpg', '1148.jpg', '1149.jpg', '115.jpg', '1150.jpg', '1152.jpg', '1153.jpg', '1154.jpg', '1156.jpg', '1157.jpg', '1158.jpg', '1159.jpg', '116.jpg', '1160.jpg', '1161.jpg', '1162.jpg', '1163.jpg', '1164.jpg', '1165.jpg', '1167.jpg', '1168.jpg', '1169.jpg', '117.jpg', '1171.jpg', '1172.jpg', '1174.jpg', '1175.jpg', '1176.jpg', '1178.jpg', '1179.jpg', '118.jpg', '1181.jpg', '1182.jpg', '1184.jpg', '1185.jpg', '1186.jpg', '1187.jpg', '1188.jpg', '1189.jpg', '1190.jpg', '1192.jpg', '1193.jpg', '1194.jpg', '1195.jpg', '1196.jpg', '1197.jpg', '1198.jpg', '1199.jpg', '12.jpg', '120.jpg', '1201.jpg', '1202.jpg', '1204.jpg', '1205.jpg', '1206.jpg', '1207.jpg', '1209.jpg', '121.jpg', '1210.jpg', '1211.jpg', '1212.jpg', '1213.jpg', '1216.jpg', '1217.jpg', '1218.jpg', '1219.jpg', '1220.jpg', '1221.jpg', '1222.jpg', '1223.jpg', '1224.jpg', '1225.jpg', '1227.jpg', '1228.jpg', '1229.jpg', '123.jpg', '1230.jpg', '1232.jpg', '1233.jpg', '1234.jpg', '1235.jpg', '1236.jpg', '1237.jpg', '1238.jpg', '1239.jpg', '124.jpg', '1240.jpg', '1241.jpg', '1245.jpg', '1246.jpg', '1247.jpg', '1248.jpg', '1249.jpg', '125.jpg', '1250.jpg', '1251.jpg', '1252.jpg', '1254.jpg', '1255.jpg', '1256.jpg', '1257.jpg', '1258.jpg', '1259.jpg', '126.jpg', '1260.jpg', '1262.jpg', '1263.jpg', '1264.jpg', '1267.jpg', '1268.jpg', '1270.jpg', '1271.jpg', '1272.jpg', '1274.jpg', '1275.jpg', '1279.jpg', '128.jpg', '1280.jpg', '1281.jpg', '1282.jpg', '1283.jpg', '1284.jpg', '1285.jpg', '1286.jpg', '1287.jpg', '1289.jpg', '129.jpg', '1291.jpg', '1292.jpg', '1293.jpg', '1294.jpg', '1295.jpg', '1296.jpg', '1298.jpg', '13.jpg', '130.jpg', '1300.jpg', '1301.jpg', '1302.jpg', '1303.jpg', '1304.jpg', '1305.jpg', '1306.jpg', '1307.jpg', '1308.jpg', '1309.jpg', '131.jpg', '1311.jpg', '1312.jpg', '1313.jpg', '1314.jpg', '1315.jpg', '1316.jpg', '1317.jpg', '1318.jpg', '132.jpg', '1320.jpg', '1323.jpg', '1324.jpg', '1325.jpg', '1326.jpg', '1327.jpg', '1328.jpg', '1329.jpg', '133.jpg', '1330.jpg', '1331.jpg', '1332.jpg', '1333.jpg', '1335.jpg', '1336.jpg', '1337.jpg', '1338.jpg', '1339.jpg', '134.jpg', '1340.jpg', '1341.jpg', '1344.jpg', '1345.jpg', '1346.jpg', '1347.jpg', '1348.jpg', '1349.jpg', '135.jpg', '1351.jpg', '1352.jpg', '1353.jpg', '1355.jpg', '1356.jpg', '1358.jpg', '136.jpg', '1360.jpg', '1361.jpg', '1363.jpg', '1364.jpg', '1366.jpg', '1368.jpg', '1369.jpg', '137.jpg', '1370.jpg', '1371.jpg', '1372.jpg', '1374.jpg', '1375.jpg', '1379.jpg', '138.jpg', '1380.jpg', '1382.jpg', '1383.jpg', '1384.jpg', '1385.jpg', '1386.jpg', '1387.jpg', '1388.jpg', '1389.jpg', '139.jpg', '1390.jpg', '1391.jpg', '1392.jpg', '1394.jpg', '1395.jpg', '1396.jpg', '1397.jpg', '1398.jpg', '1399.jpg', '14.jpg', '1402.jpg', '1403.jpg', '1404.jpg', '1405.jpg', '1406.jpg', '1407.jpg', '1408.jpg', '141.jpg', '1410.jpg', '1411.jpg', '1413.jpg', '1414.jpg', '1416.jpg', '1417.jpg', '1418.jpg', '1419.jpg', '142.jpg', '1420.jpg', '1421.jpg', '1422.jpg', '1423.jpg', '1424.jpg', '1425.jpg', '1426.jpg', '1427.jpg', '1428.jpg', '1429.jpg', '143.jpg', '1430.jpg', '1431.jpg', '1432.jpg', '1433.jpg', '1434.jpg', '1435.jpg', '1436.jpg', '1437.jpg', '1438.jpg', '1439.jpg', '1440.jpg', '1442.jpg', '1444.jpg', '1446.jpg', '1447.jpg', '1449.jpg', '145.jpg', '1450.jpg', '1451.jpg', '1452.jpg', '1453.jpg', '1454.jpg', '1455.jpg', '1456.jpg', '1457.jpg', '1458.jpg', '1459.jpg', '146.jpg', '1460.jpg', '1461.jpg', '1462.jpg', '1463.jpg', '1464.jpg', '1465.jpg', '1467.jpg', '1469.jpg', '1470.jpg', '1472.jpg', '1474.jpg', '1475.jpg', '1476.jpg', '1477.jpg', '1478.jpg', '148.jpg', '1480.jpg', '1482.jpg', '1484.jpg', '1486.jpg', '1487.jpg', '1489.jpg', '149.jpg', '1490.jpg', '1491.jpg', '1493.jpg', '1494.jpg', '1495.jpg', '1496.jpg', '1497.jpg', '1498.jpg', '150.jpg', '1500.jpg', '1501.jpg', '1503.jpg', '1504.jpg', '1505.jpg', '1506.jpg', '1507.jpg', '1508.jpg', '1509.jpg', '151.jpg', '1510.jpg', '1511.jpg', '1512.jpg', '1513.jpg', '1515.jpg', '1517.jpg', '1518.jpg', '152.jpg', '1520.jpg', '1522.jpg', '1523.jpg', '1524.jpg', '1525.jpg', '1526.jpg', '1527.jpg', '1528.jpg', '1529.jpg', '153.jpg', '1531.jpg', '1532.jpg', '1533.jpg', '1534.jpg', '1535.jpg', '1536.jpg', '1539.jpg', '1540.jpg', '1541.jpg', '1542.jpg', '1543.jpg', '1544.jpg', '1546.jpg', '1547.jpg', '1548.jpg', '1549.jpg', '155.jpg', '1550.jpg', '1551.jpg', '1552.jpg', '1553.jpg', '1554.jpg', '1555.jpg', '1556.jpg', '1557.jpg', '1558.jpg', '156.jpg', '1560.jpg', '1561.jpg', '1562.jpg', '1563.jpg', '1564.jpg', '1565.jpg', '1566.jpg', '1567.jpg', '1568.jpg', '1569.jpg', '157.jpg', '1570.jpg', '1571.jpg', '1572.jpg', '1573.jpg', '1574.jpg', '1575.jpg', '1577.jpg', '158.jpg', '1580.jpg', '1581.jpg', '1582.jpg', '1583.jpg', '1584.jpg', '1585.jpg', '1586.jpg', '1587.jpg', '1588.jpg', '1589.jpg', '159.jpg', '1590.jpg', '1591.jpg', '1593.jpg', '1594.jpg', '1595.jpg', '1596.jpg', '1597.jpg', '1598.jpg', '1599.jpg', '160.jpg', '1600.jpg', '1601.jpg', '1603.jpg', '1604.jpg', '1605.jpg', '1606.jpg', '1608.jpg', '1609.jpg', '1612.jpg', '1613.jpg', '1614.jpg', '1615.jpg', '1616.jpg', '1617.jpg', '1618.jpg', '1619.jpg', '162.jpg', '1620.jpg', '1621.jpg', '1622.jpg', '1623.jpg', '1624.jpg', '1625.jpg', '1626.jpg', '1627.jpg', '1629.jpg', '163.jpg', '1630.jpg', '1631.jpg', '1633.jpg', '1635.jpg', '1636.jpg', '1638.jpg', '1639.jpg', '164.jpg', '1640.jpg', '1641.jpg', '1643.jpg', '1644.jpg', '1645.jpg', '1647.jpg', '1649.jpg', '165.jpg', '1650.jpg', '1651.jpg', '1652.jpg', '1653.jpg', '1654.jpg', '1656.jpg', '1658.jpg', '1659.jpg', '166.jpg', '1660.jpg', '1661.jpg', '1662.jpg', '1663.jpg', '1664.jpg', '1665.jpg', '1666.jpg', '1667.jpg', '1668.jpg', '1669.jpg', '167.jpg', '1670.jpg', '1671.jpg', '1673.jpg', '1674.jpg', '1675.jpg', '1676.jpg', '1677.jpg', '1678.jpg', '1679.jpg', '168.jpg', '1680.jpg', '1681.jpg', '1683.jpg', '1684.jpg', '1685.jpg', '1686.jpg', '1688.jpg', '1689.jpg', '169.jpg', '1690.jpg', '1691.jpg', '1692.jpg', '1693.jpg', '1694.jpg', '1695.jpg', '1697.jpg', '1698.jpg', '1699.jpg', '17.jpg', '170.jpg', '1700.jpg', '1702.jpg', '1703.jpg', '1705.jpg', '1706.jpg', '1707.jpg', '1708.jpg', '1709.jpg', '171.jpg', '1712.jpg', '1713.jpg', '1715.jpg', '1716.jpg', '1717.jpg', '1718.jpg', '172.jpg', '1720.jpg', '1722.jpg', '1723.jpg', '1724.jpg', '1725.jpg', '1726.jpg', '1727.jpg', '1728.jpg', '1729.jpg', '173.jpg', '1730.jpg', '1732.jpg', '1733.jpg', '1734.jpg', '1735.jpg', '1736.jpg', '1738.jpg', '1739.jpg', '174.jpg', '1740.jpg', '1741.jpg', '1742.jpg', '1743.jpg', '1744.jpg', '1746.jpg', '1749.jpg', '175.jpg', '1750.jpg', '1751.jpg', '1752.jpg', '1753.jpg', '1754.jpg', '1755.jpg', '1759.jpg', '176.jpg', '1760.jpg', '1761.jpg', '1762.jpg', '1763.jpg', '1765.jpg', '1766.jpg', '1767.jpg', '1769.jpg', '177.jpg', '1770.jpg', '1771.jpg', '1772.jpg', '1774.jpg', '1775.jpg', '1776.jpg', '1777.jpg', '1778.jpg', '1779.jpg', '178.jpg', '1780.jpg', '1781.jpg', '1782.jpg', '1783.jpg', '1784.jpg', '1785.jpg', '1786.jpg', '1787.jpg', '1788.jpg', '1789.jpg', '179.jpg', '1790.jpg', '1791.jpg', '1792.jpg', '1793.jpg', '1794.jpg', '1795.jpg', '1796.jpg', '1799.jpg', '180.jpg', '181.jpg', '182.jpg', '183.jpg', '184.jpg', '187.jpg', '188.jpg', '189.jpg', '19.jpg', '190.jpg', '191.jpg', '192.jpg', '193.jpg', '194.jpg', '195.jpg', '196.jpg', '197.jpg', '198.jpg', '199.jpg', '20.jpg', '200.jpg', '201.jpg', '202.jpg', '203.jpg', '204.jpg', '206.jpg', '207.jpg', '208.jpg', '209.jpg', '21.jpg', '210.jpg', '212.jpg', '213.jpg', '214.jpg', '217.jpg', '218.jpg', '219.jpg', '22.jpg', '220.jpg', '221.jpg', '222.jpg', '223.jpg', '225.jpg', '227.jpg', '228.jpg', '229.jpg', '23.jpg', '230.jpg', '231.jpg', '232.jpg', '233.jpg', '234.jpg', '235.jpg', '236.jpg', '238.jpg', '239.jpg', '24.jpg', '240.jpg', '241.jpg', '242.jpg', '243.jpg', '244.jpg', '246.jpg', '247.jpg', '248.jpg', '249.jpg', '25.jpg', '252.jpg', '254.jpg', '255.jpg', '257.jpg', '258.jpg', '26.jpg', '260.jpg', '261.jpg', '262.jpg', '263.jpg', '264.jpg', '265.jpg', '266.jpg', '269.jpg', '27.jpg', '270.jpg', '271.jpg', '272.jpg', '274.jpg', '275.jpg', '276.jpg', '277.jpg', '278.jpg', '279.jpg', '28.jpg', '280.jpg', '281.jpg', '282.jpg', '283.jpg', '285.jpg', '286.jpg', '288.jpg', '29.jpg', '290.jpg', '292.jpg', '293.jpg', '294.jpg', '295.jpg', '296.jpg', '297.jpg', '298.jpg', '299.jpg', '3.jpg', '30.jpg', '301.jpg', '302.jpg', '305.jpg', '306.jpg', '307.jpg', '308.jpg', '309.jpg', '310.jpg', '312.jpg', '314.jpg', '315.jpg', '316.jpg', '318.jpg', '319.jpg', '32.jpg', '320.jpg', '321.jpg', '324.jpg', '325.jpg', '326.jpg', '327.jpg', '328.jpg', '329.jpg', '33.jpg', '331.jpg', '333.jpg', '334.jpg', '336.jpg', '337.jpg', '338.jpg', '339.jpg', '34.jpg', '340.jpg', '341.jpg', '342.jpg', '343.jpg', '345.jpg', '346.jpg', '347.jpg', '349.jpg', '35.jpg', '350.jpg', '351.jpg', '352.jpg', '353.jpg', '355.jpg', '357.jpg', '358.jpg', '359.jpg', '36.jpg', '360.jpg', '361.jpg', '362.jpg', '363.jpg', '364.jpg', '365.jpg', '366.jpg', '368.jpg', '370.jpg', '371.jpg', '372.jpg', '373.jpg', '374.jpg', '375.jpg', '376.jpg', '377.jpg', '38.jpg', '380.jpg', '381.jpg', '382.jpg', '383.jpg', '384.jpg', '386.jpg', '387.jpg', '39.jpg', '390.jpg', '391.jpg', '392.jpg', '393.jpg', '395.jpg', '396.jpg', '397.jpg', '398.jpg', '399.jpg', '4.jpg', '40.jpg', '400.jpg', '401.jpg', '402.jpg', '403.jpg', '405.jpg', '406.jpg', '408.jpg', '409.jpg', '41.jpg', '410.jpg', '411.jpg', '412.jpg', '413.jpg', '415.jpg', '416.jpg', '417.jpg', '418.jpg', '42.jpg', '420.jpg', '421.jpg', '422.jpg', '423.jpg', '424.jpg', '425.jpg', '426.jpg', '429.jpg', '43.jpg', '430.jpg', '431.jpg', '432.jpg', '434.jpg', '435.jpg', '438.jpg', '439.jpg', '440.jpg', '441.jpg', '442.jpg', '443.jpg', '445.jpg', '446.jpg', '447.jpg', '448.jpg', '450.jpg', '451.jpg', '452.jpg', '453.jpg', '455.jpg', '456.jpg', '458.jpg', '459.jpg', '46.jpg', '460.jpg', '461.jpg', '463.jpg', '464.jpg', '465.jpg', '466.jpg', '467.jpg', '468.jpg', '469.jpg', '47.jpg', '470.jpg', '471.jpg', '472.jpg', '473.jpg', '474.jpg', '476.jpg', '477.jpg', '478.jpg', '48.jpg', '480.jpg', '481.jpg', '482.jpg', '483.jpg', '485.jpg', '486.jpg', '487.jpg', '488.jpg', '489.jpg', '49.jpg', '490.jpg', '491.jpg', '492.jpg', '493.jpg', '494.jpg', '496.jpg', '497.jpg', '498.jpg', '499.jpg', '50.jpg', '500.jpg', '501.jpg', '502.jpg', '503.jpg', '504.jpg', '505.jpg', '506.jpg', '507.jpg', '508.jpg', '509.jpg', '51.jpg', '510.jpg', '511.jpg', '512.jpg', '513.jpg', '514.jpg', '515.jpg', '516.jpg', '517.jpg', '518.jpg', '519.jpg', '52.jpg', '521.jpg', '522.jpg', '523.jpg', '524.jpg', '525.jpg', '526.jpg', '528.jpg', '529.jpg', '53.jpg', '530.jpg', '531.jpg', '533.jpg', '534.jpg', '537.jpg', '538.jpg', '539.jpg', '540.jpg', '541.jpg', '542.jpg', '543.jpg', '544.jpg', '546.jpg', '547.jpg', '549.jpg', '55.jpg', '550.jpg', '551.jpg', '553.jpg', '554.jpg', '555.jpg', '556.jpg', '557.jpg', '56.jpg', '563.jpg', '564.jpg', '565.jpg', '567.jpg', '568.jpg', '569.jpg', '570.jpg', '571.jpg', '576.jpg', '577.jpg', '578.jpg', '579.jpg', '58.jpg', '581.jpg', '582.jpg', '583.jpg', '584.jpg', '585.jpg', '586.jpg', '587.jpg', '589.jpg', '59.jpg', '590.jpg', '591.jpg', '592.jpg', '593.jpg', '594.jpg', '595.jpg', '597.jpg', '598.jpg', '599.jpg', '6.jpg', '60.jpg', '600.jpg', '601.jpg', '602.jpg', '604.jpg', '605.jpg', '606.jpg', '607.jpg', '608.jpg', '609.jpg', '610.jpg', '611.jpg', '613.jpg', '614.jpg', '615.jpg', '616.jpg', '617.jpg', '618.jpg', '619.jpg', '62.jpg', '620.jpg', '621.jpg', '622.jpg', '625.jpg', '627.jpg', '628.jpg', '629.jpg', '630.jpg', '632.jpg', '633.jpg', '637.jpg', '638.jpg', '639.jpg', '64.jpg', '640.jpg', '641.jpg', '643.jpg', '645.jpg', '646.jpg', '648.jpg', '649.jpg', '65.jpg', '650.jpg', '651.jpg', '652.jpg', '653.jpg', '654.jpg', '655.jpg', '656.jpg', '657.jpg', '66.jpg', '661.jpg', '662.jpg', '665.jpg', '666.jpg', '667.jpg', '669.jpg', '67.jpg', '671.jpg', '672.jpg', '673.jpg', '674.jpg', '675.jpg', '677.jpg', '679.jpg', '68.jpg', '680.jpg', '682.jpg', '683.jpg', '684.jpg', '685.jpg', '686.jpg', '687.jpg', '688.jpg', '69.jpg', '691.jpg', '692.jpg', '693.jpg', '694.jpg', '695.jpg', '696.jpg', '697.jpg', '698.jpg', '699.jpg', '7.jpg', '70.jpg', '701.jpg', '702.jpg', '703.jpg', '704.jpg', '705.jpg', '706.jpg', '707.jpg', '708.jpg', '709.jpg', '710.jpg', '711.jpg', '713.jpg', '714.jpg', '715.jpg', '716.jpg', '718.jpg', '719.jpg', '72.jpg', '722.jpg', '723.jpg', '726.jpg', '727.jpg', '728.jpg', '729.jpg', '73.jpg', '730.jpg', '731.jpg', '732.jpg', '733.jpg', '734.jpg', '735.jpg', '736.jpg', '737.jpg', '738.jpg', '739.jpg', '740.jpg', '741.jpg', '742.jpg', '743.jpg', '744.jpg', '745.jpg', '746.jpg', '747.jpg', '748.jpg', '749.jpg', '75.jpg', '750.jpg', '752.jpg', '753.jpg', '754.jpg', '755.jpg', '756.jpg', '757.jpg', '759.jpg', '76.jpg', '760.jpg', '761.jpg', '764.jpg', '765.jpg', '766.jpg', '767.jpg', '769.jpg', '77.jpg', '771.jpg', '772.jpg', '775.jpg', '776.jpg', '777.jpg', '779.jpg', '78.jpg', '780.jpg', '781.jpg', '782.jpg', '783.jpg', '784.jpg', '785.jpg', '786.jpg', '787.jpg', '788.jpg', '789.jpg', '79.jpg', '791.jpg', '792.jpg', '793.jpg', '794.jpg', '795.jpg', '796.jpg', '797.jpg', '798.jpg', '799.jpg', '80.jpg', '800.jpg', '801.jpg', '803.jpg', '804.jpg', '807.jpg', '808.jpg', '809.jpg', '81.jpg', '810.jpg', '811.jpg', '812.jpg', '814.jpg', '815.jpg', '816.jpg', '817.jpg', '818.jpg', '82.jpg', '821.jpg', '822.jpg', '827.jpg', '829.jpg', '831.jpg', '832.jpg', '833.jpg', '834.jpg', '835.jpg', '836.jpg', '837.jpg', '838.jpg', '839.jpg', '841.jpg', '842.jpg', '843.jpg', '844.jpg', '845.jpg', '846.jpg', '847.jpg', '848.jpg', '849.jpg', '85.jpg', '850.jpg', '851.jpg', '852.jpg', '853.jpg', '855.jpg', '856.jpg', '857.jpg', '858.jpg', '859.jpg', '86.jpg', '860.jpg', '861.jpg', '862.jpg', '863.jpg', '864.jpg', '865.jpg', '866.jpg', '867.jpg', '868.jpg', '87.jpg', '870.jpg', '871.jpg', '872.jpg', '873.jpg', '875.jpg', '876.jpg', '877.jpg', '879.jpg', '881.jpg', '882.jpg', '883.jpg', '884.jpg', '885.jpg', '886.jpg', '889.jpg', '89.jpg', '890.jpg', '891.jpg', '896.jpg', '897.jpg', '898.jpg', '899.jpg', '900.jpg', '901.jpg', '902.jpg', '904.jpg', '905.jpg', '907.jpg', '908.jpg', '91.jpg', '910.jpg', '911.jpg', '913.jpg', '914.jpg', '915.jpg', '917.jpg', '918.jpg', '92.jpg', '920.jpg', '921.jpg', '922.jpg', '923.jpg', '924.jpg', '926.jpg', '927.jpg', '928.jpg', '929.jpg', '93.jpg', '930.jpg', '931.jpg', '932.jpg', '933.jpg', '934.jpg', '935.jpg', '937.jpg', '938.jpg', '939.jpg', '94.jpg', '940.jpg', '941.jpg', '942.jpg', '945.jpg', '947.jpg', '948.jpg', '949.jpg', '950.jpg', '951.jpg', '952.jpg', '953.jpg', '954.jpg', '955.jpg', '956.jpg', '957.jpg', '959.jpg', '96.jpg', '960.jpg', '961.jpg', '963.jpg', '965.jpg', '966.jpg', '967.jpg', '968.jpg', '969.jpg', '970.jpg', '971.jpg', '973.jpg', '974.jpg', '975.jpg', '976.jpg', '977.jpg', '978.jpg', '979.jpg', '980.jpg', '981.jpg', '983.jpg', '984.jpg', '985.jpg', '986.jpg', '987.jpg', '988.jpg', '989.jpg', '99.jpg', '990.jpg', '991.jpg', '992.jpg', '994.jpg', '995.jpg', '996.jpg', '997.jpg', '999.jpg', '1.jpg', '1003.jpg', '1019.jpg', '1074.jpg', '1080.jpg', '1112.jpg', '1135.jpg', '1151.jpg', '1155.jpg', '1166.jpg', '1170.jpg', '1173.jpg', '1215.jpg', '1242.jpg', '1266.jpg', '1297.jpg', '1310.jpg', '1322.jpg', '1342.jpg', '1354.jpg', '1359.jpg', '1378.jpg', '1401.jpg', '1443.jpg', '1499.jpg', '161.jpg', '185.jpg', '186.jpg', '237.jpg', '256.jpg', '303.jpg', '317.jpg', '322.jpg', '348.jpg', '356.jpg', '389.jpg', '394.jpg', '407.jpg', '419.jpg', '428.jpg', '436.jpg', '437.jpg', '44.jpg', '479.jpg', '536.jpg', '54.jpg', '562.jpg', '57.jpg', '572.jpg', '573.jpg', '575.jpg', '596.jpg', '603.jpg', '658.jpg', '660.jpg', '670.jpg', '74.jpg', '762.jpg', '763.jpg', '773.jpg', '778.jpg', '8.jpg', '826.jpg', '874.jpg', '887.jpg', '893.jpg', '894.jpg']\n"
          ],
          "name": "stdout"
        }
      ]
    },
    {
      "cell_type": "code",
      "metadata": {
        "id": "flr6TxK5X7v4"
      },
      "source": [
        "import random\n",
        "import shutil\n",
        "\n",
        "def split_data(src, train, test, split_size):\n",
        "  source_data = os.listdir(src)\n",
        "  source_data = random.sample(source_data, len(source_data))\n",
        "\n",
        "  for f in enumerate(source_data):\n",
        "    if f[i]\n",
        "\n",
        "\n"
      ],
      "execution_count": null,
      "outputs": []
    },
    {
      "cell_type": "code",
      "metadata": {
        "id": "fhBqnkilzTm_",
        "outputId": "8b41284a-a76c-4eb4-bbd3-e20f467d5af7",
        "colab": {
          "base_uri": "https://localhost:8080/",
          "height": 380
        }
      },
      "source": [
        "import random\n",
        "from shutil import copyfile\n",
        "\n",
        "def split_data(SOURCE, TRAINING, VALIDATION, SPLIT_SIZE):\n",
        "  source_data = os.listdir(SOURCE)\n",
        "  source_data = random.sample(source_data, len(source_data))\n",
        "\n",
        "  for count, filename in enumerate(source_data):\n",
        "    if count < SPLIT_SIZE * len(source_data):\n",
        "      copyfile(SOURCE + filename, TRAINING + filename)\n",
        "    else:\n",
        "      copyfile(SOURCE + filename, VALIDATION + filename)\n",
        "\n",
        "      \n",
        "\n",
        "BENIGN_SOURCE_DIR = \"/content/drive/MyDrive/source/benign\"\n",
        "BENIGN_TRAINING_DIR = \"/content/drive/MyDrive/data/training/benign\"\n",
        "BENIGN_VALIDATION_DIR = \"/content/drive/MyDrive/data/validation/benign\"\n",
        "\n",
        "MALIGNANT_SOURCE_DIR = \"/content/drive/MyDrive/source/malignant\"\n",
        "MALIGNANT_TRAINING_DIR = \"/content/drive/MyDrive/data/training/malignant\"\n",
        "MALIGNANT_VALIDATION_DIR = \"/content/drive/MyDrive/data/validation/malignant\"\n",
        "\n",
        "\n",
        "split_size = 0.8\n",
        "split_data(BENIGN_SOURCE_DIR, BENIGN_TRAINING_DIR, BENIGN_VALIDATION_DIR, split_size)\n",
        "split_data(MALIGNANT_SOURCE_DIR, MALIGNANT_TRAINING_DIR, MALIGNANT_VALIDATION_DIR, split_size)\n"
      ],
      "execution_count": 80,
      "outputs": [
        {
          "output_type": "error",
          "ename": "FileNotFoundError",
          "evalue": "ignored",
          "traceback": [
            "\u001b[0;31m---------------------------------------------------------------------------\u001b[0m",
            "\u001b[0;31mFileNotFoundError\u001b[0m                         Traceback (most recent call last)",
            "\u001b[0;32m<ipython-input-80-8b6c2568336d>\u001b[0m in \u001b[0;36m<module>\u001b[0;34m()\u001b[0m\n\u001b[1;32m     24\u001b[0m \u001b[0;34m\u001b[0m\u001b[0m\n\u001b[1;32m     25\u001b[0m \u001b[0msplit_size\u001b[0m \u001b[0;34m=\u001b[0m \u001b[0;36m0.8\u001b[0m\u001b[0;34m\u001b[0m\u001b[0;34m\u001b[0m\u001b[0m\n\u001b[0;32m---> 26\u001b[0;31m \u001b[0msplit_data\u001b[0m\u001b[0;34m(\u001b[0m\u001b[0mBENIGN_SOURCE_DIR\u001b[0m\u001b[0;34m,\u001b[0m \u001b[0mBENIGN_TRAINING_DIR\u001b[0m\u001b[0;34m,\u001b[0m \u001b[0mBENIGN_VALIDATION_DIR\u001b[0m\u001b[0;34m,\u001b[0m \u001b[0msplit_size\u001b[0m\u001b[0;34m)\u001b[0m\u001b[0;34m\u001b[0m\u001b[0;34m\u001b[0m\u001b[0m\n\u001b[0m\u001b[1;32m     27\u001b[0m \u001b[0msplit_data\u001b[0m\u001b[0;34m(\u001b[0m\u001b[0mMALIGNANT_SOURCE_DIR\u001b[0m\u001b[0;34m,\u001b[0m \u001b[0mMALIGNANT_TRAINING_DIR\u001b[0m\u001b[0;34m,\u001b[0m \u001b[0mMALIGNANT_VALIDATION_DIR\u001b[0m\u001b[0;34m,\u001b[0m \u001b[0msplit_size\u001b[0m\u001b[0;34m)\u001b[0m\u001b[0;34m\u001b[0m\u001b[0;34m\u001b[0m\u001b[0m\n",
            "\u001b[0;32m<ipython-input-80-8b6c2568336d>\u001b[0m in \u001b[0;36msplit_data\u001b[0;34m(SOURCE, TRAINING, VALIDATION, SPLIT_SIZE)\u001b[0m\n\u001b[1;32m      8\u001b[0m   \u001b[0;32mfor\u001b[0m \u001b[0mcount\u001b[0m\u001b[0;34m,\u001b[0m \u001b[0mfilename\u001b[0m \u001b[0;32min\u001b[0m \u001b[0menumerate\u001b[0m\u001b[0;34m(\u001b[0m\u001b[0msource_data\u001b[0m\u001b[0;34m)\u001b[0m\u001b[0;34m:\u001b[0m\u001b[0;34m\u001b[0m\u001b[0;34m\u001b[0m\u001b[0m\n\u001b[1;32m      9\u001b[0m     \u001b[0;32mif\u001b[0m \u001b[0mcount\u001b[0m \u001b[0;34m<\u001b[0m \u001b[0mSPLIT_SIZE\u001b[0m \u001b[0;34m*\u001b[0m \u001b[0mlen\u001b[0m\u001b[0;34m(\u001b[0m\u001b[0msource_data\u001b[0m\u001b[0;34m)\u001b[0m\u001b[0;34m:\u001b[0m\u001b[0;34m\u001b[0m\u001b[0;34m\u001b[0m\u001b[0m\n\u001b[0;32m---> 10\u001b[0;31m       \u001b[0mcopyfile\u001b[0m\u001b[0;34m(\u001b[0m\u001b[0mSOURCE\u001b[0m \u001b[0;34m+\u001b[0m \u001b[0mfilename\u001b[0m\u001b[0;34m,\u001b[0m \u001b[0mTRAINING\u001b[0m \u001b[0;34m+\u001b[0m \u001b[0mfilename\u001b[0m\u001b[0;34m)\u001b[0m\u001b[0;34m\u001b[0m\u001b[0;34m\u001b[0m\u001b[0m\n\u001b[0m\u001b[1;32m     11\u001b[0m     \u001b[0;32melse\u001b[0m\u001b[0;34m:\u001b[0m\u001b[0;34m\u001b[0m\u001b[0;34m\u001b[0m\u001b[0m\n\u001b[1;32m     12\u001b[0m       \u001b[0mcopyfile\u001b[0m\u001b[0;34m(\u001b[0m\u001b[0mSOURCE\u001b[0m \u001b[0;34m+\u001b[0m \u001b[0mfilename\u001b[0m\u001b[0;34m,\u001b[0m \u001b[0mVALIDATION\u001b[0m \u001b[0;34m+\u001b[0m \u001b[0mfilename\u001b[0m\u001b[0;34m)\u001b[0m\u001b[0;34m\u001b[0m\u001b[0;34m\u001b[0m\u001b[0m\n",
            "\u001b[0;32m/usr/lib/python3.7/shutil.py\u001b[0m in \u001b[0;36mcopyfile\u001b[0;34m(src, dst, follow_symlinks)\u001b[0m\n\u001b[1;32m    118\u001b[0m         \u001b[0mos\u001b[0m\u001b[0;34m.\u001b[0m\u001b[0msymlink\u001b[0m\u001b[0;34m(\u001b[0m\u001b[0mos\u001b[0m\u001b[0;34m.\u001b[0m\u001b[0mreadlink\u001b[0m\u001b[0;34m(\u001b[0m\u001b[0msrc\u001b[0m\u001b[0;34m)\u001b[0m\u001b[0;34m,\u001b[0m \u001b[0mdst\u001b[0m\u001b[0;34m)\u001b[0m\u001b[0;34m\u001b[0m\u001b[0;34m\u001b[0m\u001b[0m\n\u001b[1;32m    119\u001b[0m     \u001b[0;32melse\u001b[0m\u001b[0;34m:\u001b[0m\u001b[0;34m\u001b[0m\u001b[0;34m\u001b[0m\u001b[0m\n\u001b[0;32m--> 120\u001b[0;31m         \u001b[0;32mwith\u001b[0m \u001b[0mopen\u001b[0m\u001b[0;34m(\u001b[0m\u001b[0msrc\u001b[0m\u001b[0;34m,\u001b[0m \u001b[0;34m'rb'\u001b[0m\u001b[0;34m)\u001b[0m \u001b[0;32mas\u001b[0m \u001b[0mfsrc\u001b[0m\u001b[0;34m:\u001b[0m\u001b[0;34m\u001b[0m\u001b[0;34m\u001b[0m\u001b[0m\n\u001b[0m\u001b[1;32m    121\u001b[0m             \u001b[0;32mwith\u001b[0m \u001b[0mopen\u001b[0m\u001b[0;34m(\u001b[0m\u001b[0mdst\u001b[0m\u001b[0;34m,\u001b[0m \u001b[0;34m'wb'\u001b[0m\u001b[0;34m)\u001b[0m \u001b[0;32mas\u001b[0m \u001b[0mfdst\u001b[0m\u001b[0;34m:\u001b[0m\u001b[0;34m\u001b[0m\u001b[0;34m\u001b[0m\u001b[0m\n\u001b[1;32m    122\u001b[0m                 \u001b[0mcopyfileobj\u001b[0m\u001b[0;34m(\u001b[0m\u001b[0mfsrc\u001b[0m\u001b[0;34m,\u001b[0m \u001b[0mfdst\u001b[0m\u001b[0;34m)\u001b[0m\u001b[0;34m\u001b[0m\u001b[0;34m\u001b[0m\u001b[0m\n",
            "\u001b[0;31mFileNotFoundError\u001b[0m: [Errno 2] No such file or directory: '/content/drive/MyDrive/source/benign40.jpg'"
          ]
        }
      ]
    },
    {
      "cell_type": "code",
      "metadata": {
        "id": "9Xw__7MS8Kyt",
        "outputId": "4beec10d-6a37-44ef-d145-e4b4ab30d7bc",
        "colab": {
          "base_uri": "https://localhost:8080/"
        }
      },
      "source": [
        "print(\"Total valid Data:\")\n",
        "print(len(os.listdir(\"/content/drive/MyDrive/data/validation/benign\")))\n",
        "print(len(os.listdir(\"/content/drive/MyDrive/data/validation/malignant\")))\n",
        "\n",
        "print(\"Total Training Data\")\n",
        "print(len(os.listdir(\"/content/drive/MyDrive/data/training/benign\")))\n",
        "print(len(os.listdir(\"/content/drive/MyDrive/data/training/malignant\")))"
      ],
      "execution_count": 81,
      "outputs": [
        {
          "output_type": "stream",
          "text": [
            "Total valid Data:\n",
            "0\n",
            "0\n",
            "Total Training Data\n",
            "0\n",
            "0\n"
          ],
          "name": "stdout"
        }
      ]
    },
    {
      "cell_type": "code",
      "metadata": {
        "id": "5JOWRzG6x6YL"
      },
      "source": [
        "TRAIN_DIR = \"/content/drive/MyDrive/data/train\"\n",
        "TEST_DIR = \"/content/drive/MyDrive/data/test\""
      ],
      "execution_count": null,
      "outputs": []
    }
  ]
}