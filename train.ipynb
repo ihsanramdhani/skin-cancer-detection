{
  "nbformat": 4,
  "nbformat_minor": 0,
  "metadata": {
    "colab": {
      "name": "train.ipynb",
      "provenance": [],
      "mount_file_id": "https://github.com/ihsanramdhani/skin-cancer-detection/blob/master/train.ipynb",
      "authorship_tag": "ABX9TyMFM+nIw8QIY7oNw/uHKHkH",
      "include_colab_link": true
    },
    "kernelspec": {
      "name": "python3",
      "display_name": "Python 3"
    },
    "language_info": {
      "name": "python"
    }
  },
  "cells": [
    {
      "cell_type": "markdown",
      "metadata": {
        "id": "view-in-github",
        "colab_type": "text"
      },
      "source": [
        "<a href=\"https://colab.research.google.com/github/ihsanramdhani/skin-cancer-detection/blob/master/train.ipynb\" target=\"_parent\"><img src=\"https://colab.research.google.com/assets/colab-badge.svg\" alt=\"Open In Colab\"/></a>"
      ]
    },
    {
      "cell_type": "code",
      "metadata": {
        "colab": {
          "base_uri": "https://localhost:8080/"
        },
        "id": "kBc65D7hy5DK",
        "outputId": "ba683c84-7891-4600-f71a-945e8e3d1184"
      },
      "source": [
        "!ls \"/content/drive/MyDrive/kaggle API Token\""
      ],
      "execution_count": null,
      "outputs": [
        {
          "output_type": "stream",
          "text": [
            "kaggle.json\n"
          ],
          "name": "stdout"
        }
      ]
    },
    {
      "cell_type": "code",
      "metadata": {
        "colab": {
          "base_uri": "https://localhost:8080/"
        },
        "id": "O7Xf-Pdt1n2r",
        "outputId": "6a26f61f-72e0-438c-b5bb-43b634c21630"
      },
      "source": [
        "!pip install -q kaggle\n",
        "!mkdir -p ~/.kaggle\n",
        "!cp \"/content/drive/MyDrive/kaggle API Token/kaggle.json\" ~/.kaggle/\n",
        "!cat ~/.kaggle/kaggle.json \n",
        "!chmod 600 ~/.kaggle/kaggle.json\n",
        "\n",
        "!kaggle datasets download -d fanconic/skin-cancer-malignant-vs-benign -p /content/drive/MyDrive/dataset"
      ],
      "execution_count": 78,
      "outputs": [
        {
          "output_type": "stream",
          "text": [
            "Traceback (most recent call last):\n",
            "  File \"/usr/local/bin/kaggle\", line 5, in <module>\n",
            "    from kaggle.cli import main\n",
            "  File \"/usr/local/lib/python2.7/dist-packages/kaggle/__init__.py\", line 23, in <module>\n",
            "    api.authenticate()\n",
            "  File \"/usr/local/lib/python2.7/dist-packages/kaggle/api/kaggle_api_extended.py\", line 146, in authenticate\n",
            "    self.config_file, self.config_dir))\n",
            "IOError: Could not find kaggle.json. Make sure it's located in /root/.kaggle. Or use the environment method.\n"
          ],
          "name": "stdout"
        }
      ]
    },
    {
      "cell_type": "code",
      "metadata": {
        "id": "vdeMrmccv3XH"
      },
      "source": [
        "import os\n",
        "\n",
        "try:\n",
        "  # os.mkdir(\"/content/drive/MyDrive/data\")\n",
        "  # os.mkdir(\"/content/drive/MyDrive/raw_data\")\n",
        "\n",
        "  # os.mkdir(\"/content/drive/MyDrive/data/training\")\n",
        "  # os.mkdir(\"/content/drive/MyDrive/data/validation\")\n",
        "  # os.mkdir(\"/content/drive/MyDrive/data/testing\")\n",
        "\n",
        "  # os.mkdir(\"/content/drive/MyDrive/data/training/benign\")\n",
        "  # os.mkdir(\"/content/drive/MyDrive/data/training/malignant\")\n",
        "\n",
        "  # os.mkdir(\"/content/drive/MyDrive/data/validation/benign\")\n",
        "  # os.mkdir(\"/content/drive/MyDrive/data/validation/malignant\")\n",
        "\n",
        "  # os.mkdir(\"/content/drive/MyDrive/data/testing/benign\")\n",
        "  # os.mkdir(\"/content/drive/MyDrive/data/testing/malignant\")\n",
        "\n",
        "  # os.mkdir(\"/content/drive/MyDrive/source\")\n",
        "  os.mkdir(\"/content/drive/MyDrive/source/benign\")\n",
        "  os.mkdir(\"/content/drive/MyDrive/source/malignant\")\n",
        "except:\n",
        "  print(\"Failed to create the data, check !ls to confirm.\")\n",
        "  pass\n"
      ],
      "execution_count": 4,
      "outputs": []
    },
    {
      "cell_type": "code",
      "metadata": {
        "id": "VPkVLQp8vO0I"
      },
      "source": [
        "import shutil \n",
        "\n",
        "shutil.unpack_archive(\"/content/drive/MyDrive/dataset/skin-cancer-malignant-vs-benign.zip\", \"/content/drive/MyDrive/raw_data\")"
      ],
      "execution_count": 14,
      "outputs": []
    },
    {
      "cell_type": "code",
      "metadata": {
        "colab": {
          "base_uri": "https://localhost:8080/"
        },
        "id": "7RGOQdDdwqpY",
        "outputId": "aa461040-0a5c-47a0-8e25-e3eb9b71d8dc"
      },
      "source": [
        "print(\"Total Testing Data:\")\n",
        "print(len(os.listdir(\"/content/drive/MyDrive/raw_data/test/benign\")))\n",
        "print(len(os.listdir(\"/content/drive/MyDrive/raw_data/test/malignant\")))\n",
        "\n",
        "print(\"Total Training Data\")\n",
        "print(len(os.listdir(\"/content/drive/MyDrive/raw_data/train/benign\")))\n",
        "print(len(os.listdir(\"/content/drive/MyDrive/raw_data/train/malignant\")))"
      ],
      "execution_count": 2,
      "outputs": [
        {
          "output_type": "stream",
          "text": [
            "Total Testing Data:\n",
            "360\n",
            "300\n",
            "Total Training Data\n",
            "1440\n",
            "1197\n"
          ],
          "name": "stdout"
        }
      ]
    },
    {
      "cell_type": "code",
      "metadata": {
        "id": "TlAv0V2U8yAo"
      },
      "source": [
        "import os\n",
        "import glob\n",
        "import shutil\n",
        "\n",
        "\n",
        "def copy_data(src, dst):\n",
        "  for f in glob.iglob(os.path.join(src, \"*.jpg\")):\n",
        "    shutil.copy(f, dst)\n",
        "\n",
        "TRAIN_BENIGN_DIR = \"/content/drive/MyDrive/raw_data/train/benign\"\n",
        "TRAIN_MALIGNANT_DIR = \"/content/drive/MyDrive/raw_data/train/benign\"\n",
        "TEST_BENIGN_DIR = \"/content/drive/MyDrive/raw_data/test/benign\"\n",
        "TEST_MALIGNANT_DIR = \"/content/drive/MyDrive/raw_data/test/malignant\"\n",
        "DEST_BENIGN_DIR = \"/content/drive/MyDrive/source/benign\"\n",
        "DEST_MALIGNANT_DIR = \"/content/drive/MyDrive/source/malignant\"\n",
        "\n",
        "copy_data(TRAIN_BENIGN_DIR, DEST_BENIGN_DIR)\n",
        "copy_data(TEST_BENIGN_DIR, DEST_BENIGN_DIR)\n",
        "copy_data(TRAIN_MALIGNANT_DIR, DEST_MALIGNANT_DIR)\n",
        "copy_data(TEST_MALIGNANT_DIR, DEST_MALIGNANT_DIR)"
      ],
      "execution_count": 5,
      "outputs": []
    },
    {
      "cell_type": "code",
      "metadata": {
        "colab": {
          "base_uri": "https://localhost:8080/"
        },
        "id": "liGXMO3DBQkf",
        "outputId": "b96c26ae-9077-4f72-cc1b-27d20436561c"
      },
      "source": [
        "print(\"Total Data in source directory:\")\n",
        "print(len(os.listdir(\"/content/drive/MyDrive/source/benign\")))\n",
        "print(len(os.listdir(\"/content/drive/MyDrive/source/malignant\")))"
      ],
      "execution_count": 6,
      "outputs": [
        {
          "output_type": "stream",
          "text": [
            "Total Data in source directory:\n",
            "1800\n",
            "1507\n"
          ],
          "name": "stdout"
        }
      ]
    },
    {
      "cell_type": "code",
      "metadata": {
        "id": "flr6TxK5X7v4"
      },
      "source": [
        "import os\n",
        "\n",
        "\n",
        "def rename_data(src, dst):\n",
        "  dir = os.listdir(src)\n",
        "  for index, f in enumerate(dir):\n",
        "    os.rename(os.path.join(src, f), os.path.join(dst, str(index) + '.jpg'))\n",
        "\n",
        "BENIGN_DIR = \"/content/drive/MyDrive/source/benign\"\n",
        "MALIGNANT_DIR = \"/content/drive/MyDrive/source/malignant\"\n",
        "BENIGN_DST = \"/content/drive/MyDrive/source1/benign\"\n",
        "MALIGNANT_DST = \"/content/drive/MyDrive/source1/malignant\"\n",
        "\n",
        "rename_data(BENIGN_DIR, BENIGN_DST)\n",
        "rename_data(MALIGNANT_DIR, MALIGNANT_DST)\n",
        "\n",
        "# path = \"/content/drive/MyDrive/source/benign\"\n",
        "# dir = os.listdir(path)\n",
        "\n",
        "# for index, f in enumerate(dir):\n",
        "#   os.rename(os.path.join(path, f), os.path.join(path, str(index) + '.jpg'))\n",
        "\n"
      ],
      "execution_count": 7,
      "outputs": []
    },
    {
      "cell_type": "code",
      "metadata": {
        "id": "MacfgjkMfDxd",
        "outputId": "ed1e0809-9f74-4d65-adbd-b2546a12eeb5",
        "colab": {
          "base_uri": "https://localhost:8080/"
        }
      },
      "source": [
        "path1 = \"/content/drive/MyDrive/source1/benign\"\n",
        "path2 = \"/content/drive/MyDrive/source1/malignant\"\n",
        "benign_dir = os.listdir(path1)\n",
        "malignant_dir = os.listdir(path2)\n",
        "print(len(benign_dir))\n",
        "print(len(malignant_dir))"
      ],
      "execution_count": 14,
      "outputs": [
        {
          "output_type": "stream",
          "text": [
            "1800\n",
            "1507\n"
          ],
          "name": "stdout"
        }
      ]
    },
    {
      "cell_type": "code",
      "metadata": {
        "id": "fhBqnkilzTm_"
      },
      "source": [
        "def split_data\n"
      ],
      "execution_count": null,
      "outputs": []
    },
    {
      "cell_type": "code",
      "metadata": {
        "colab": {
          "base_uri": "https://localhost:8080/"
        },
        "id": "9Xw__7MS8Kyt",
        "outputId": "66627788-ee1b-4359-c5ec-95fd7dfcf53b"
      },
      "source": [
        "print(\"Total valid Data:\")\n",
        "print(len(os.listdir(\"/content/drive/MyDrive/data/validation/benign\")))\n",
        "print(len(os.listdir(\"/content/drive/MyDrive/data/validation/malignant\")))\n",
        "\n",
        "print(\"Total Training Data\")\n",
        "print(len(os.listdir(\"/content/drive/MyDrive/data/training/benign\")))\n",
        "print(len(os.listdir(\"/content/drive/MyDrive/data/training/malignant\")))"
      ],
      "execution_count": 13,
      "outputs": [
        {
          "output_type": "stream",
          "text": [
            "Total valid Data:\n",
            "0\n",
            "0\n",
            "Total Training Data\n",
            "0\n",
            "0\n"
          ],
          "name": "stdout"
        }
      ]
    },
    {
      "cell_type": "code",
      "metadata": {
        "id": "5JOWRzG6x6YL"
      },
      "source": [
        "TRAIN_DIR = \"/content/drive/MyDrive/data/train\"\n",
        "TEST_DIR = \"/content/drive/MyDrive/data/test\""
      ],
      "execution_count": null,
      "outputs": []
    }
  ]
}